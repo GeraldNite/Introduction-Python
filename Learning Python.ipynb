{
 "cells": [
  {
   "cell_type": "code",
   "execution_count": 2,
   "metadata": {},
   "outputs": [
    {
     "name": "stdout",
     "output_type": "stream",
     "text": [
      " b is greater than a\n"
     ]
    }
   ],
   "source": [
    "a=200\n",
    "b=330\n",
    "if b>a: print(\" b is greater than a\")\n",
    "#else:\n",
    " #   print(\"a is greater then b\")"
   ]
  },
  {
   "cell_type": "code",
   "execution_count": 2,
   "metadata": {},
   "outputs": [
    {
     "name": "stdout",
     "output_type": "stream",
     "text": [
      "7\n"
     ]
    }
   ],
   "source": [
    "print(3+4)"
   ]
  },
  {
   "cell_type": "code",
   "execution_count": null,
   "metadata": {},
   "outputs": [],
   "source": [
    "i=1\n",
    "while i<6:\n",
    "    print(i)\n",
    "    i+=1"
   ]
  },
  {
   "cell_type": "code",
   "execution_count": 1,
   "metadata": {},
   "outputs": [
    {
     "name": "stdout",
     "output_type": "stream",
     "text": [
      "1\n",
      "2\n",
      "3\n"
     ]
    }
   ],
   "source": [
    "i=1\n",
    "while i<6:\n",
    "    print(i)\n",
    "    if i==3:\n",
    "     break\n",
    "    i+=1\n",
    "    continue"
   ]
  },
  {
   "cell_type": "code",
   "execution_count": 6,
   "metadata": {},
   "outputs": [
    {
     "name": "stdout",
     "output_type": "stream",
     "text": [
      "hello, Gerald\n",
      "hello, Happy\n",
      "hello, Ibra\n",
      "hello, Gerald\n"
     ]
    }
   ],
   "source": [
    "def mi(jina=\"Gerald\"):\n",
    "    print(\"hello, \"+jina)\n",
    "    \n",
    "mi(\"Gerald\")\n",
    "mi(\"Happy\")\n",
    "mi(\"Ibra\")\n",
    "mi()"
   ]
  },
  {
   "cell_type": "code",
   "execution_count": 15,
   "metadata": {},
   "outputs": [
    {
     "name": "stdout",
     "output_type": "stream",
     "text": [
      "25\n"
     ]
    }
   ],
   "source": [
    "def con(x):\n",
    "    return 5*x\n",
    "print(con(5))"
   ]
  },
  {
   "cell_type": "code",
   "execution_count": 22,
   "metadata": {},
   "outputs": [
    {
     "name": "stdout",
     "output_type": "stream",
     "text": [
      "import java.util.Scanner;\n",
      "public class Mbili{\n",
      "\tpublic static void main(String[] args) {\n",
      "\t\t\n",
      "\t\t//Mbili hope = new Mbili();\n",
      "\n",
      "\t\tScanner input = new Scanner(System.in);\n",
      "\n",
      "\t\tSystem.out.println(\"Enter two Integers to add: \");\n",
      "\t\tint x = input.nextInt();\n",
      "\t\tint y = input.nextInt();\n",
      "\n",
      "\t\tint z=add(x,y);\n",
      "\n",
      "\t\tSystem.out.println(\"The sum is: \"+z);\n",
      "\t}\n",
      "\n",
      "\tpublic static int add(int a,int b){\n",
      "\t\tint z= a+b;\n",
      "\t\treturn z;\n",
      "\t}\n",
      "}\n"
     ]
    }
   ],
   "source": [
    "f=open(\"Mbili.java\",\"r\")\n",
    "print(f.read())"
   ]
  }
 ],
 "metadata": {
  "kernelspec": {
   "display_name": "Python 3",
   "language": "python",
   "name": "python3"
  },
  "language_info": {
   "codemirror_mode": {
    "name": "ipython",
    "version": 3
   },
   "file_extension": ".py",
   "mimetype": "text/x-python",
   "name": "python",
   "nbconvert_exporter": "python",
   "pygments_lexer": "ipython3",
   "version": "3.6.5"
  }
 },
 "nbformat": 4,
 "nbformat_minor": 2
}
