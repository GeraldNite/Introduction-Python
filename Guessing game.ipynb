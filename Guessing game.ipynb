{
 "cells": [
  {
   "cell_type": "code",
   "execution_count": 1,
   "metadata": {},
   "outputs": [
    {
     "name": "stdout",
     "output_type": "stream",
     "text": [
      "Your guess: 45\n",
      "Guess lower!\n",
      "Your guess: 30\n",
      "Guess higher!\n",
      "Your guess: 35\n",
      "Guess higher!\n",
      "Your guess: 38\n",
      "Guess higher!\n",
      "Your guess: 39\n",
      "Guess higher!\n",
      "Your guess: 43\n",
      "Guess lower!\n",
      "Your guess: 42\n",
      "You got It!\n",
      "Thanks for playing my game\n"
     ]
    }
   ],
   "source": [
    "import random\n",
    "def main():\n",
    "    randomNumber=random.randint(1,100)\n",
    "    found = False\n",
    "    \n",
    "    while not found:\n",
    "        userGuess=int(input(\"Your guess: \"))\n",
    "        if userGuess == randomNumber:\n",
    "            print(\"You got It!\")\n",
    "            found=True\n",
    "        elif userGuess>randomNumber:\n",
    "            print(\"Guess lower!\")\n",
    "        else:\n",
    "            print(\"Guess higher!\")\n",
    "            \n",
    "    print(\"Thanks for playing my game\")\n",
    "    \n",
    "if __name__==\"__main__\":\n",
    " main()"
   ]
  },
  {
   "cell_type": "code",
   "execution_count": null,
   "metadata": {},
   "outputs": [],
   "source": []
  }
 ],
 "metadata": {
  "kernelspec": {
   "display_name": "Python 3",
   "language": "python",
   "name": "python3"
  },
  "language_info": {
   "codemirror_mode": {
    "name": "ipython",
    "version": 3
   },
   "file_extension": ".py",
   "mimetype": "text/x-python",
   "name": "python",
   "nbconvert_exporter": "python",
   "pygments_lexer": "ipython3",
   "version": "3.6.5"
  }
 },
 "nbformat": 4,
 "nbformat_minor": 2
}
